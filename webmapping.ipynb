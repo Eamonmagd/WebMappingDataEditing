{
 "cells": [
  {
   "cell_type": "markdown",
   "metadata": {},
   "source": [
    "# Web Mapping Data Modification"
   ]
  },
  {
   "cell_type": "markdown",
   "metadata": {},
   "source": [
    "This section is revolved around editing code from online resources and using them for further analysis with either Mapbox or CARTO.  Thank you for reading."
   ]
  },
  {
   "cell_type": "code",
   "execution_count": 1,
   "metadata": {},
   "outputs": [],
   "source": [
    "#STANDARD GEOGRAPHIC MODULES\n",
    "#Importing numpy allowing for mathematicl operations\n",
    "import numpy as np\n",
    "#Pandas importing which allow to edit Dataframe data sets in csv and xlsx\n",
    "import pandas as pd\n",
    "#Geopandas allows for GeoDataframe and polygon rendering for SHP objects\n",
    "import geopandas as gpd\n",
    "# pysal Python Spatial Analysis Library allows for chropleth mapping\n",
    "import pysal as ps\n",
    "#Seaborn is used to use techniques such as \n",
    "import seaborn as sns\n",
    "# matplot allows for graphs to be created for morans I and XY graphs\n",
    "import matplotlib.pyplot as plt\n",
    "#DBSCAN method for noise and main points for point method\n",
    "from sklearn.cluster import dbscan\n",
    "# reducing the datasets from a large amount to a usable amount\n",
    "from functools import reduce\n",
    "# allowing interactive and fixed elements on a HTML envrionment for Python\n",
    "from ipywidgets import interact, fixed\n",
    "\n",
    "#Choropleth and LISA CREATION\n",
    "#allowing for matplotinline creation without object creation\n",
    "%matplotlib inline\n",
    "#moran plotting weighted attributes for each variable for standarization\n",
    "from pysal.lib import weights\n",
    "# morans ESDA for plotting and achieveing Moran values\n",
    "from pysal.explore import esda\n",
    "# for LISA and spatial autocorrelation plotting of points in a LSOA\n",
    "from pysal.viz.splot.esda import moran_scatterplot, lisa_cluster,plot_local_autocorrelation\n",
    "#used for background maps for graph creation\n",
    "import contextily as ctx\n",
    "\n",
    "#K MEAN SECTION\n",
    "# from sklearn.cluster import KMeans \n",
    "from sklearn.cluster import KMeans \n",
    "# Principal component analysis (PCA) which reduces SVD's to a . single dimension for graphs\n",
    "from sklearn.decomposition import PCA\n",
    "#allowing to plot a set amount of colours passed in for aesthetical graph\n",
    "from matplotlib import colors as mcolors \n",
    "#allowing for mathemtical components with basic Python\n",
    "import math \n",
    "\n",
    "#3D GRAPH CREATION\n",
    "#colour map import from matplot graph tool\n",
    "from matplotlib import cm \n",
    "# MATPLOT3D Axes which allows for ZYX graphs\n",
    "from mpl_toolkits.mplot3d import Axes3D \n",
    "\n",
    "#random seed creates a random number prediction for 123\n",
    "np.random.seed(123)\n",
    "\n",
    "#detection of lISA in a graph\n",
    "from pysal.viz.splot.esda import plot_local_autocorrelation"
   ]
  },
  {
   "cell_type": "code",
   "execution_count": 2,
   "metadata": {},
   "outputs": [],
   "source": [
    "#CSV AND SHP files for IMD (Index of Multiple Deprivation) calculation\n",
    "\n",
    "\n",
    "\n",
    "#Data from Council tax brackets used for with housing  price range\n",
    "# Link to data-set: https://data.cdrc.ac.uk/dataset/cdrc-2015-council-tax-bands-geodata-pack-liverpool-e08000012\n",
    "councilTax_path = '../councilTaxBands/shapefiles/E08000012.shp'\n",
    "\n",
    "# merseyside police dataset that uses points for crime ratio\n",
    "# Link to data-set: https://data.police.uk/data/\n",
    "mo_path = '../MerseysidePoliceRecords/2019-09-merseyside-outcomes.csv'\n",
    "\n",
    "#health deprivation measuring health rating throughout the country\n",
    "# Link to data-set: https://opendatacommunities.org/slice?dataset=http%3A%2F%2Fopendatacommunities.org%2Fdata%2Fsocietal-wellbeing%2Fimd2019%2Findices&http%3A%2F%2Fopendatacommunities.org%2Fdef%2Fontology%2Fcommunities%2Fsocietal_wellbeing%2Fimd%2Findices=http%3A%2F%2Fopendatacommunities.org%2Fdef%2Fconcept%2Fgeneral-concepts%2Fimd%2Fhealthdeprivdisability&http%3A%2F%2Fpurl.org%2Flinked-data%2Fcube%23measureType=http%3A%2F%2Fopendatacommunities.org%2Fdef%2Fontology%2Fcommunities%2Fsocietal_wellbeing%2Fimd%2FscoreObs\n",
    "healthdep_path ='societal-wellbeing_imd2019_indices.csv'\n",
    "\n",
    "#population growth per LSOA through the uk and allows for possitive and negative values\n",
    "#Link to data-set: https://www.ons.gov.uk/economy/environmentalaccounts/datasets/ratiooflandconsumptiongrowthratetopopulationgrowthratebycountryandlowerlayersuperoutputarea\n",
    "persongrowthratio_path = 'landtopopulationgrowth.xlsx'\n",
    "\n",
    "#employed/unemployed people per LSOA in England\n",
    "# Link to data-set http://infuse2011.ukdataservice.ac.uk/InFuseWiz.aspx?cookie=openaccess\n",
    "employmentRate_path = 'Data_AGE_ECOACT_UNIT.csv'\n",
    "\n",
    "#education rating per LSOA in England\n",
    "# Link to data-set https://opendatacommunities.org/slice?dataset=http%3A%2F%2Fopendatacommunities.org%2Fdata%2Fsocietal-wellbeing%2Fimd2019%2Findices&http%3A%2F%2Fopendatacommunities.org%2Fdef%2Fontology%2Fcommunities%2Fsocietal_wellbeing%2Fimd%2Findices=http%3A%2F%2Fopendatacommunities.org%2Fdef%2Fconcept%2Fgeneral-concepts%2Fimd%2Feducskilltraindepriv&http%3A%2F%2Fpurl.org%2Flinked-data%2Fcube%23measureType=http%3A%2F%2Fopendatacommunities.org%2Fdef%2Fontology%2Fcommunities%2Fsocietal_wellbeing%2Fimd%2FscoreObs\n",
    "educationRate_path  = 'educationscoreLSOA.csv'\n",
    "\n",
    "# income path rating for LSOA Liverpool\n",
    "# Link to data-set https://data.cdrc.ac.uk/dataset/cdrc-2016-individual-income-estimates-lep-geodata-pack-lcr-e37000022\n",
    "income_path = './E37000022/spatial/E37000022.shp'\n",
    "\n",
    "#Entire sets are used as they are all percentages into the total Deprivation rate that the \n",
    "# Ministry of Housing, Communities and Local Government use."
   ]
  },
  {
   "cell_type": "code",
   "execution_count": 3,
   "metadata": {},
   "outputs": [],
   "source": [
    "#Council tax bracket dataset which uses the tax brackets for liverpool as \n",
    "#defined with: https://liverpool.gov.uk/media/1357456/council-tax-guide_ver_10_070319.pdf\n",
    "# setting the index so joins and merges can be done on other datasets\n",
    "councilTBracket = gpd.read_file(councilTax_path).set_index('LSOA11CD', drop=False)\n",
    "# Band is A Up to £40,000 which is the ratio we will use from that \n",
    "#compared to all houses that are in a band\n",
    "councilTBracket['Bands_Ratio'] = councilTBracket.apply(lambda row: (row['BAND_A'])/row['All_Bands'], axis=1)\n",
    "\n",
    "# A subgroup of measurement is the financial accessibility of a household which will be measured using the \n",
    "# house tax rate bands for the Liverpool City Council. As funding is the main goal a ratio between all bands and \n",
    "# Band A was chosen as it had a reduction in charge and used other bands funding for disability and health \n",
    "# funding with these households (Liverpool City Council, 2019). \n"
   ]
  },
  {
   "cell_type": "code",
   "execution_count": 4,
   "metadata": {},
   "outputs": [],
   "source": [
    "#Health data set stops any error lines since the data set had empty NaN values\n",
    "healthdep = pd.read_csv(healthdep_path, error_bad_lines=False)\n",
    "#finding the ratio for health deprivation which is a point in total IMD Deprivation.\n",
    "healthdep['LSOA11CD'] = healthdep['LSOA11CD'].map(lambda x: x.lstrip('http://opendatacommunities.org/id/geography/administration/lsoa/'))\n",
    "#Setting the index for the healthdeprivation to allow a join later on\n",
    "healthdep =healthdep.set_index('LSOA11CD')\n",
    "#GET the largest value of health so a ratio can be made from 0 to 1 so every variable \n",
    "# is in the same max values\n",
    "maxHealth = healthdep[' Healthrating'].max()\n",
    "#Ratio of current health rating with the maximum achieved in England\n",
    "healthdep[' Healthrating'] =  healthdep[' Healthrating'] /maxHealth"
   ]
  },
  {
   "cell_type": "code",
   "execution_count": 5,
   "metadata": {},
   "outputs": [],
   "source": [
    "#Population growth reading into a pd file as it is not a SHP file and does not contain a geometry\n",
    "pgrowthr = pd.read_excel(persongrowthratio_path)\n",
    "#Values initially had spaces between certain values so this function could not join with other sets\n",
    "pgrowthr['LSOA11CD'] =   pgrowthr['LSOA11CD'].str.strip()\n",
    "#Setting index for future joins and not allowing for duplicate collumns\n",
    "pgrowthr = pgrowthr.set_index('LSOA11CD')"
   ]
  },
  {
   "cell_type": "code",
   "execution_count": 6,
   "metadata": {},
   "outputs": [],
   "source": [
    "#Reading CSV file for employee values from the 2011 England Census classic data collection\n",
    "employeer = pd.read_csv(employmentRate_path)\n",
    "#Find the ratio of unemployed users with total checked with survey for ratio\n",
    "employeer['unEmployment_Ratio'] = employeer.apply(lambda row: (row['Einactive'])/(row['Einactive']+row['EActive']), axis=1)\n",
    "#Set index for future joins to find total deprivation\n",
    "employeer =employeer.set_index('LSOA11CD')"
   ]
  },
  {
   "cell_type": "code",
   "execution_count": 7,
   "metadata": {},
   "outputs": [],
   "source": [
    "#Read the education rate data set achieved from the ODC to a CSV file\n",
    "eduRate = pd.read_csv(educationRate_path, error_bad_lines=False)\n",
    "#LSOA collumn had copyrighted information so it was removed on each row to match other sets\n",
    "eduRate['LSOA11CD'] = eduRate['LSOA11CD'].map(lambda x: x.lstrip('http://opendatacommunities.org/id/geography/administration/lsoa/'))\n",
    "#Setting the index later on after the row was mapped properly so the index can perform a join\n",
    "eduRate =eduRate.set_index('LSOA11CD')\n",
    "# Finding the ratio of the education score compared to other sets within the graph\n",
    "eduRate['EducationScore'] = eduRate.apply(lambda row: (row['EducationScore']/eduRate['EducationScore'].max()), axis=1)"
   ]
  },
  {
   "cell_type": "code",
   "execution_count": 8,
   "metadata": {},
   "outputs": [],
   "source": [
    "#Reading income data set for Liverpool that uses the different income brackers for a user\n",
    "#Using Rank 1 = £0.00  and Rank 2 = £0.01 to £5,000.00 which is £10,000 less than the minimum wage\n",
    "incomeRate = gpd.read_file(income_path)\n",
    "#Getting Array list of all collumn name String\n",
    "names = incomeRate.columns.tolist()\n",
    "#remaining collumn name for inner join capabilities latter\n",
    "names[names.index('lsoa11cd')] = 'LSOA11CD'\n",
    "#enforcing new collumn names\n",
    "incomeRate.columns = names\n",
    "#setting index for on join on\n",
    "incomeRate = incomeRate.set_index('LSOA11CD')\n",
    "#Create ratio for Users earning less than £10,000 and 0 as the data isalready given in a ratio\n",
    "incomeRate['lowestIncomebracket'] = incomeRate.apply(lambda row: ((row['rank_1']+row['rank_2'] )), axis=1)\n",
    "#Remove geo location as Counciltax has geometry and a pandas clash exception will occour\n",
    "incomeRate = incomeRate.drop(columns=['geometry'])"
   ]
  },
  {
   "cell_type": "code",
   "execution_count": 9,
   "metadata": {},
   "outputs": [],
   "source": [
    "# Create array of  Dataframs for simple concat function, more time efficient than merge\n",
    "dfsArray = [councilTBracket, healthdep, pgrowthr, employeer, eduRate, incomeRate] #incomeRate"
   ]
  },
  {
   "cell_type": "code",
   "execution_count": 10,
   "metadata": {},
   "outputs": [],
   "source": [
    "#Filling all empty row values with nan_value\n",
    "nan_value = 0\n",
    "# Create PD called DeprivationDataset  concatting all the data with an inner join\n",
    "DeprivationDataset = pd.concat(dfsArray, join='inner', axis=1).fillna(nan_value)"
   ]
  },
  {
   "cell_type": "code",
   "execution_count": 11,
   "metadata": {},
   "outputs": [],
   "source": [
    "#Drop all irrelevent sections such as . specified values for Bands as ratio had been established\n",
    "DepSpecified = DeprivationDataset.drop(['BAND_A', 'BAND_B', 'BAND_C', 'BAND_D',  'BAND_E',  'BAND_F',  'BAND_G',  'BAND_H',  'BAND_I'], axis=1)\n",
    "#Drop goverment 2011 . statistic variables\n",
    "DepSpecified  = DepSpecified.drop(['Reference area','CDU_ID','GEO_LABEL', 'GEO_TYPE','EActive', 'Einactive' ,'GEO_TYP2'], axis=1)\n",
    "# Remove bands tax bracket information from table so functions can run faster \n",
    "#with less collumns\n",
    "DepSpecified  = DepSpecified.drop(['LSOA name', 'All_Bands', 'rank_1','rank_2', 'rank_3', 'rank_4', 'rank_5', 'rank_6', 'rank_7', 'rank_8', 'rank_9', 'no_info', ' Reference area'], axis=1)\n",
    "#creating a geometry object that can be created on a graph\n",
    "DepGeometry = DepSpecified\n",
    "#removing geomotry information so k-means on all clusters can bedone\n",
    "DepSpecified = DepSpecified.drop(['geometry', 'LSOA11CD'], axis=1) "
   ]
  },
  {
   "cell_type": "code",
   "execution_count": 12,
   "metadata": {},
   "outputs": [],
   "source": [
    "\n",
    "#Using the english government information for the ratio analysis to create a deprivation rating after\n",
    "# K-Means tuplets ratio comarison has been made a general skewe has . been shown to correlate values.\n",
    "# AS RATIOS ARE BETWEEN 0-1 the *0.135 is the percentage to take into consideration and as teh values\n",
    "#have . the same bound the percentages will make an impact.\n",
    "DepGeometry['DeprivationRate'] = DepGeometry.apply(lambda row: (row['EducationScore']*0.135\n",
    "                                                                + row['Bands_Ratio']*0.093\n",
    "                                                                + row['unEmployment_Ratio']*0.225\n",
    "                                                                + row['lowestIncomebracket']*0.225\n",
    "                                                                + row[' Healthrating']*0.135\n",
    "                                                                + row['populationRatio']*0.093)\n",
    "                                                                , axis=1)"
   ]
  },
  {
   "cell_type": "code",
   "execution_count": 13,
   "metadata": {
    "collapsed": true,
    "jupyter": {
     "outputs_hidden": true
    }
   },
   "outputs": [
    {
     "ename": "RuntimeError",
     "evalue": "b'no arguments in initialization list'",
     "output_type": "error",
     "traceback": [
      "\u001b[0;31m---------------------------------------------------------------------------\u001b[0m",
      "\u001b[0;31mRuntimeError\u001b[0m                              Traceback (most recent call last)",
      "\u001b[0;32m<ipython-input-13-5b169e8e4508>\u001b[0m in \u001b[0;36m<module>\u001b[0;34m\u001b[0m\n\u001b[0;32m----> 1\u001b[0;31m \u001b[0mDepGeometry\u001b[0m \u001b[0;34m=\u001b[0m \u001b[0mDepGeometry\u001b[0m\u001b[0;34m.\u001b[0m\u001b[0mto_crs\u001b[0m\u001b[0;34m(\u001b[0m\u001b[0;34m\"EPSG:3857\"\u001b[0m\u001b[0;34m)\u001b[0m\u001b[0;34m\u001b[0m\u001b[0;34m\u001b[0m\u001b[0m\n\u001b[0m",
      "\u001b[0;32m/opt/conda/lib/python3.7/site-packages/geopandas/geodataframe.py\u001b[0m in \u001b[0;36mto_crs\u001b[0;34m(self, crs, epsg, inplace)\u001b[0m\n\u001b[1;32m    457\u001b[0m         \u001b[0;32melse\u001b[0m\u001b[0;34m:\u001b[0m\u001b[0;34m\u001b[0m\u001b[0;34m\u001b[0m\u001b[0m\n\u001b[1;32m    458\u001b[0m             \u001b[0mdf\u001b[0m \u001b[0;34m=\u001b[0m \u001b[0mself\u001b[0m\u001b[0;34m.\u001b[0m\u001b[0mcopy\u001b[0m\u001b[0;34m(\u001b[0m\u001b[0;34m)\u001b[0m\u001b[0;34m\u001b[0m\u001b[0;34m\u001b[0m\u001b[0m\n\u001b[0;32m--> 459\u001b[0;31m         \u001b[0mgeom\u001b[0m \u001b[0;34m=\u001b[0m \u001b[0mdf\u001b[0m\u001b[0;34m.\u001b[0m\u001b[0mgeometry\u001b[0m\u001b[0;34m.\u001b[0m\u001b[0mto_crs\u001b[0m\u001b[0;34m(\u001b[0m\u001b[0mcrs\u001b[0m\u001b[0;34m=\u001b[0m\u001b[0mcrs\u001b[0m\u001b[0;34m,\u001b[0m \u001b[0mepsg\u001b[0m\u001b[0;34m=\u001b[0m\u001b[0mepsg\u001b[0m\u001b[0;34m)\u001b[0m\u001b[0;34m\u001b[0m\u001b[0;34m\u001b[0m\u001b[0m\n\u001b[0m\u001b[1;32m    460\u001b[0m         \u001b[0mdf\u001b[0m\u001b[0;34m.\u001b[0m\u001b[0mgeometry\u001b[0m \u001b[0;34m=\u001b[0m \u001b[0mgeom\u001b[0m\u001b[0;34m\u001b[0m\u001b[0;34m\u001b[0m\u001b[0m\n\u001b[1;32m    461\u001b[0m         \u001b[0mdf\u001b[0m\u001b[0;34m.\u001b[0m\u001b[0mcrs\u001b[0m \u001b[0;34m=\u001b[0m \u001b[0mgeom\u001b[0m\u001b[0;34m.\u001b[0m\u001b[0mcrs\u001b[0m\u001b[0;34m\u001b[0m\u001b[0;34m\u001b[0m\u001b[0m\n",
      "\u001b[0;32m/opt/conda/lib/python3.7/site-packages/geopandas/geoseries.py\u001b[0m in \u001b[0;36mto_crs\u001b[0;34m(self, crs, epsg)\u001b[0m\n\u001b[1;32m    303\u001b[0m                 \u001b[0;32mraise\u001b[0m \u001b[0mTypeError\u001b[0m\u001b[0;34m(\u001b[0m\u001b[0;34m'Must set either crs or epsg for output.'\u001b[0m\u001b[0;34m)\u001b[0m\u001b[0;34m\u001b[0m\u001b[0;34m\u001b[0m\u001b[0m\n\u001b[1;32m    304\u001b[0m         \u001b[0mproj_in\u001b[0m \u001b[0;34m=\u001b[0m \u001b[0mpyproj\u001b[0m\u001b[0;34m.\u001b[0m\u001b[0mProj\u001b[0m\u001b[0;34m(\u001b[0m\u001b[0mself\u001b[0m\u001b[0;34m.\u001b[0m\u001b[0mcrs\u001b[0m\u001b[0;34m,\u001b[0m \u001b[0mpreserve_units\u001b[0m\u001b[0;34m=\u001b[0m\u001b[0;32mTrue\u001b[0m\u001b[0;34m)\u001b[0m\u001b[0;34m\u001b[0m\u001b[0;34m\u001b[0m\u001b[0m\n\u001b[0;32m--> 305\u001b[0;31m         \u001b[0mproj_out\u001b[0m \u001b[0;34m=\u001b[0m \u001b[0mpyproj\u001b[0m\u001b[0;34m.\u001b[0m\u001b[0mProj\u001b[0m\u001b[0;34m(\u001b[0m\u001b[0mcrs\u001b[0m\u001b[0;34m,\u001b[0m \u001b[0mpreserve_units\u001b[0m\u001b[0;34m=\u001b[0m\u001b[0;32mTrue\u001b[0m\u001b[0;34m)\u001b[0m\u001b[0;34m\u001b[0m\u001b[0;34m\u001b[0m\u001b[0m\n\u001b[0m\u001b[1;32m    306\u001b[0m         \u001b[0;32mif\u001b[0m \u001b[0m_PYPROJ2\u001b[0m\u001b[0;34m:\u001b[0m\u001b[0;34m\u001b[0m\u001b[0;34m\u001b[0m\u001b[0m\n\u001b[1;32m    307\u001b[0m             \u001b[0mtransformer\u001b[0m \u001b[0;34m=\u001b[0m \u001b[0mpyproj\u001b[0m\u001b[0;34m.\u001b[0m\u001b[0mTransformer\u001b[0m\u001b[0;34m.\u001b[0m\u001b[0mfrom_proj\u001b[0m\u001b[0;34m(\u001b[0m\u001b[0mproj_in\u001b[0m\u001b[0;34m,\u001b[0m \u001b[0mproj_out\u001b[0m\u001b[0;34m)\u001b[0m\u001b[0;34m\u001b[0m\u001b[0;34m\u001b[0m\u001b[0m\n",
      "\u001b[0;32m/opt/conda/lib/python3.7/site-packages/pyproj/__init__.py\u001b[0m in \u001b[0;36m__new__\u001b[0;34m(self, projparams, preserve_units, **kwargs)\u001b[0m\n\u001b[1;32m    360\u001b[0m         \u001b[0;31m# on case-insensitive filesystems).\u001b[0m\u001b[0;34m\u001b[0m\u001b[0;34m\u001b[0m\u001b[0;34m\u001b[0m\u001b[0m\n\u001b[1;32m    361\u001b[0m         \u001b[0mprojstring\u001b[0m \u001b[0;34m=\u001b[0m \u001b[0mprojstring\u001b[0m\u001b[0;34m.\u001b[0m\u001b[0mreplace\u001b[0m\u001b[0;34m(\u001b[0m\u001b[0;34m'EPSG'\u001b[0m\u001b[0;34m,\u001b[0m\u001b[0;34m'epsg'\u001b[0m\u001b[0;34m)\u001b[0m\u001b[0;34m\u001b[0m\u001b[0;34m\u001b[0m\u001b[0m\n\u001b[0;32m--> 362\u001b[0;31m         \u001b[0;32mreturn\u001b[0m \u001b[0m_proj\u001b[0m\u001b[0;34m.\u001b[0m\u001b[0mProj\u001b[0m\u001b[0;34m.\u001b[0m\u001b[0m__new__\u001b[0m\u001b[0;34m(\u001b[0m\u001b[0mself\u001b[0m\u001b[0;34m,\u001b[0m \u001b[0mprojstring\u001b[0m\u001b[0;34m)\u001b[0m\u001b[0;34m\u001b[0m\u001b[0;34m\u001b[0m\u001b[0m\n\u001b[0m\u001b[1;32m    363\u001b[0m \u001b[0;34m\u001b[0m\u001b[0m\n\u001b[1;32m    364\u001b[0m     \u001b[0;32mdef\u001b[0m \u001b[0m__call__\u001b[0m\u001b[0;34m(\u001b[0m\u001b[0mself\u001b[0m\u001b[0;34m,\u001b[0m \u001b[0;34m*\u001b[0m\u001b[0margs\u001b[0m\u001b[0;34m,\u001b[0m \u001b[0;34m**\u001b[0m\u001b[0mkw\u001b[0m\u001b[0;34m)\u001b[0m\u001b[0;34m:\u001b[0m\u001b[0;34m\u001b[0m\u001b[0;34m\u001b[0m\u001b[0m\n",
      "\u001b[0;32m_proj.pyx\u001b[0m in \u001b[0;36m_proj.Proj.__cinit__\u001b[0;34m()\u001b[0m\n",
      "\u001b[0;31mRuntimeError\u001b[0m: b'no arguments in initialization list'"
     ]
    }
   ],
   "source": [
    "DepGeometry = DepGeometry.to_crs(\"EPSG:3857\")"
   ]
  },
  {
   "cell_type": "code",
   "execution_count": 19,
   "metadata": {},
   "outputs": [
    {
     "data": {
      "text/html": [
       "<div>\n",
       "<style scoped>\n",
       "    .dataframe tbody tr th:only-of-type {\n",
       "        vertical-align: middle;\n",
       "    }\n",
       "\n",
       "    .dataframe tbody tr th {\n",
       "        vertical-align: top;\n",
       "    }\n",
       "\n",
       "    .dataframe thead th {\n",
       "        text-align: right;\n",
       "    }\n",
       "</style>\n",
       "<table border=\"1\" class=\"dataframe\">\n",
       "  <thead>\n",
       "    <tr style=\"text-align: right;\">\n",
       "      <th></th>\n",
       "      <th>LSOA11CD</th>\n",
       "      <th>geometry</th>\n",
       "      <th>Bands_Ratio</th>\n",
       "      <th>Healthrating</th>\n",
       "      <th>populationRatio</th>\n",
       "      <th>unEmployment_Ratio</th>\n",
       "      <th>EducationScore</th>\n",
       "      <th>lowestIncomebracket</th>\n",
       "      <th>DeprivationRate</th>\n",
       "    </tr>\n",
       "    <tr>\n",
       "      <th>LSOA11CD</th>\n",
       "      <th></th>\n",
       "      <th></th>\n",
       "      <th></th>\n",
       "      <th></th>\n",
       "      <th></th>\n",
       "      <th></th>\n",
       "      <th></th>\n",
       "      <th></th>\n",
       "      <th></th>\n",
       "    </tr>\n",
       "  </thead>\n",
       "  <tbody>\n",
       "    <tr>\n",
       "      <th>E01006512</th>\n",
       "      <td>E01006512</td>\n",
       "      <td>POLYGON ((336103.358 389628.58, 336103.416 389...</td>\n",
       "      <td>0.821429</td>\n",
       "      <td>0.245560</td>\n",
       "      <td>0.006007</td>\n",
       "      <td>0.379978</td>\n",
       "      <td>0.155733</td>\n",
       "      <td>0.256</td>\n",
       "      <td>0.274221</td>\n",
       "    </tr>\n",
       "    <tr>\n",
       "      <th>E01006513</th>\n",
       "      <td>E01006513</td>\n",
       "      <td>POLYGON ((335173.781 389691.538, 335169.798 38...</td>\n",
       "      <td>0.348148</td>\n",
       "      <td>0.112489</td>\n",
       "      <td>0.027512</td>\n",
       "      <td>0.350706</td>\n",
       "      <td>0.432768</td>\n",
       "      <td>0.347</td>\n",
       "      <td>0.265530</td>\n",
       "    </tr>\n",
       "  </tbody>\n",
       "</table>\n",
       "</div>"
      ],
      "text/plain": [
       "            LSOA11CD                                           geometry  \\\n",
       "LSOA11CD                                                                  \n",
       "E01006512  E01006512  POLYGON ((336103.358 389628.58, 336103.416 389...   \n",
       "E01006513  E01006513  POLYGON ((335173.781 389691.538, 335169.798 38...   \n",
       "\n",
       "           Bands_Ratio   Healthrating  populationRatio  unEmployment_Ratio  \\\n",
       "LSOA11CD                                                                     \n",
       "E01006512     0.821429       0.245560         0.006007            0.379978   \n",
       "E01006513     0.348148       0.112489         0.027512            0.350706   \n",
       "\n",
       "           EducationScore  lowestIncomebracket  DeprivationRate  \n",
       "LSOA11CD                                                         \n",
       "E01006512        0.155733                0.256         0.274221  \n",
       "E01006513        0.432768                0.347         0.265530  "
      ]
     },
     "execution_count": 19,
     "metadata": {},
     "output_type": "execute_result"
    }
   ],
   "source": [
    "DepGeometry.head(2)"
   ]
  },
  {
   "cell_type": "code",
   "execution_count": 20,
   "metadata": {},
   "outputs": [],
   "source": [
    "DepGeometry = gpd.GeoDataFrame(DepGeometry, geometry='geometry')"
   ]
  },
  {
   "cell_type": "code",
   "execution_count": 24,
   "metadata": {},
   "outputs": [],
   "source": [
    "DepGeometry.to_file('MyGeometries.shp', driver='ESRI Shapefile')"
   ]
  },
  {
   "cell_type": "code",
   "execution_count": 27,
   "metadata": {},
   "outputs": [],
   "source": [
    "councilTBracket.to_file('councilSave.shp', driver='ESRI Shapefile')"
   ]
  },
  {
   "cell_type": "code",
   "execution_count": 27,
   "metadata": {},
   "outputs": [
    {
     "data": {
      "text/html": [
       "<div>\n",
       "<style scoped>\n",
       "    .dataframe tbody tr th:only-of-type {\n",
       "        vertical-align: middle;\n",
       "    }\n",
       "\n",
       "    .dataframe tbody tr th {\n",
       "        vertical-align: top;\n",
       "    }\n",
       "\n",
       "    .dataframe thead th {\n",
       "        text-align: right;\n",
       "    }\n",
       "</style>\n",
       "<table border=\"1\" class=\"dataframe\">\n",
       "  <thead>\n",
       "    <tr style=\"text-align: right;\">\n",
       "      <th></th>\n",
       "      <th>LSOA11CD</th>\n",
       "      <th>geometry</th>\n",
       "      <th>Bands_Ratio</th>\n",
       "      <th>Healthrating</th>\n",
       "      <th>populationRatio</th>\n",
       "      <th>unEmployment_Ratio</th>\n",
       "      <th>EducationScore</th>\n",
       "      <th>lowestIncomebracket</th>\n",
       "      <th>DeprivationRate</th>\n",
       "    </tr>\n",
       "    <tr>\n",
       "      <th>LSOA11CD</th>\n",
       "      <th></th>\n",
       "      <th></th>\n",
       "      <th></th>\n",
       "      <th></th>\n",
       "      <th></th>\n",
       "      <th></th>\n",
       "      <th></th>\n",
       "      <th></th>\n",
       "      <th></th>\n",
       "    </tr>\n",
       "  </thead>\n",
       "  <tbody>\n",
       "    <tr>\n",
       "      <th>E01006512</th>\n",
       "      <td>E01006512</td>\n",
       "      <td>POLYGON ((336103.358 389628.58, 336103.416 389...</td>\n",
       "      <td>0.821429</td>\n",
       "      <td>0.245560</td>\n",
       "      <td>0.006007</td>\n",
       "      <td>0.379978</td>\n",
       "      <td>0.155733</td>\n",
       "      <td>0.256</td>\n",
       "      <td>0.274221</td>\n",
       "    </tr>\n",
       "    <tr>\n",
       "      <th>E01006513</th>\n",
       "      <td>E01006513</td>\n",
       "      <td>POLYGON ((335173.781 389691.538, 335169.798 38...</td>\n",
       "      <td>0.348148</td>\n",
       "      <td>0.112489</td>\n",
       "      <td>0.027512</td>\n",
       "      <td>0.350706</td>\n",
       "      <td>0.432768</td>\n",
       "      <td>0.347</td>\n",
       "      <td>0.265530</td>\n",
       "    </tr>\n",
       "  </tbody>\n",
       "</table>\n",
       "</div>"
      ],
      "text/plain": [
       "            LSOA11CD                                           geometry  \\\n",
       "LSOA11CD                                                                  \n",
       "E01006512  E01006512  POLYGON ((336103.358 389628.58, 336103.416 389...   \n",
       "E01006513  E01006513  POLYGON ((335173.781 389691.538, 335169.798 38...   \n",
       "\n",
       "           Bands_Ratio   Healthrating  populationRatio  unEmployment_Ratio  \\\n",
       "LSOA11CD                                                                     \n",
       "E01006512     0.821429       0.245560         0.006007            0.379978   \n",
       "E01006513     0.348148       0.112489         0.027512            0.350706   \n",
       "\n",
       "           EducationScore  lowestIncomebracket  DeprivationRate  \n",
       "LSOA11CD                                                         \n",
       "E01006512        0.155733                0.256         0.274221  \n",
       "E01006513        0.432768                0.347         0.265530  "
      ]
     },
     "execution_count": 27,
     "metadata": {},
     "output_type": "execute_result"
    }
   ],
   "source": [
    "DepGeometry.head(2)"
   ]
  },
  {
   "cell_type": "code",
   "execution_count": 28,
   "metadata": {},
   "outputs": [],
   "source": [
    "\n",
    "DepGeometry.to_csv (r'export_dataframe.csv', index = False, header=True)"
   ]
  },
  {
   "cell_type": "code",
   "execution_count": 14,
   "metadata": {},
   "outputs": [],
   "source": [
    "test = 'danigdsl/danigdsl.shp'"
   ]
  },
  {
   "cell_type": "code",
   "execution_count": 15,
   "metadata": {},
   "outputs": [],
   "source": [
    "v = gpd.read_file(test)"
   ]
  },
  {
   "cell_type": "code",
   "execution_count": 16,
   "metadata": {},
   "outputs": [
    {
     "data": {
      "text/html": [
       "<div>\n",
       "<style scoped>\n",
       "    .dataframe tbody tr th:only-of-type {\n",
       "        vertical-align: middle;\n",
       "    }\n",
       "\n",
       "    .dataframe tbody tr th {\n",
       "        vertical-align: top;\n",
       "    }\n",
       "\n",
       "    .dataframe thead th {\n",
       "        text-align: right;\n",
       "    }\n",
       "</style>\n",
       "<table border=\"1\" class=\"dataframe\">\n",
       "  <thead>\n",
       "    <tr style=\"text-align: right;\">\n",
       "      <th></th>\n",
       "      <th>index_of_m</th>\n",
       "      <th>fid</th>\n",
       "      <th>lsoa11cd</th>\n",
       "      <th>lsoa11nm</th>\n",
       "      <th>lsoa11nmw</th>\n",
       "      <th>age_indica</th>\n",
       "      <th>shape_area</th>\n",
       "      <th>shape_leng</th>\n",
       "      <th>lsoa_name_</th>\n",
       "      <th>local_auth</th>\n",
       "      <th>...</th>\n",
       "      <th>living_env</th>\n",
       "      <th>income_dep</th>\n",
       "      <th>income_d_1</th>\n",
       "      <th>children_a</th>\n",
       "      <th>adult_skil</th>\n",
       "      <th>geographic</th>\n",
       "      <th>wider_barr</th>\n",
       "      <th>indoors_su</th>\n",
       "      <th>outdoors_s</th>\n",
       "      <th>geometry</th>\n",
       "    </tr>\n",
       "  </thead>\n",
       "  <tbody>\n",
       "    <tr>\n",
       "      <th>0</th>\n",
       "      <td>30.679</td>\n",
       "      <td>18</td>\n",
       "      <td>E01000011</td>\n",
       "      <td>Barking and Dagenham 016C</td>\n",
       "      <td>Barking and Dagenham 016C</td>\n",
       "      <td>0</td>\n",
       "      <td>233155.657352</td>\n",
       "      <td>2403.754733</td>\n",
       "      <td>Barking and Dagenham 016C</td>\n",
       "      <td>E09000002</td>\n",
       "      <td>...</td>\n",
       "      <td>39.857</td>\n",
       "      <td>0.189</td>\n",
       "      <td>0.362</td>\n",
       "      <td>0.273</td>\n",
       "      <td>0.334</td>\n",
       "      <td>-0.337</td>\n",
       "      <td>6.689</td>\n",
       "      <td>0.652</td>\n",
       "      <td>1.195</td>\n",
       "      <td>POLYGON ((0.08274776947323803 51.5434999119112...</td>\n",
       "    </tr>\n",
       "    <tr>\n",
       "      <th>1</th>\n",
       "      <td>39.004</td>\n",
       "      <td>24</td>\n",
       "      <td>E01000017</td>\n",
       "      <td>Barking and Dagenham 009C</td>\n",
       "      <td>Barking and Dagenham 009C</td>\n",
       "      <td>0</td>\n",
       "      <td>415282.819397</td>\n",
       "      <td>3399.901723</td>\n",
       "      <td>Barking and Dagenham 009C</td>\n",
       "      <td>E09000002</td>\n",
       "      <td>...</td>\n",
       "      <td>27.688</td>\n",
       "      <td>0.318</td>\n",
       "      <td>0.293</td>\n",
       "      <td>-0.300</td>\n",
       "      <td>0.403</td>\n",
       "      <td>-0.761</td>\n",
       "      <td>6.045</td>\n",
       "      <td>0.280</td>\n",
       "      <td>0.773</td>\n",
       "      <td>POLYGON ((0.150347276986134 51.55090787738874,...</td>\n",
       "    </tr>\n",
       "  </tbody>\n",
       "</table>\n",
       "<p>2 rows × 30 columns</p>\n",
       "</div>"
      ],
      "text/plain": [
       "   index_of_m  fid   lsoa11cd                   lsoa11nm  \\\n",
       "0      30.679   18  E01000011  Barking and Dagenham 016C   \n",
       "1      39.004   24  E01000017  Barking and Dagenham 009C   \n",
       "\n",
       "                   lsoa11nmw  age_indica     shape_area   shape_leng  \\\n",
       "0  Barking and Dagenham 016C           0  233155.657352  2403.754733   \n",
       "1  Barking and Dagenham 009C           0  415282.819397  3399.901723   \n",
       "\n",
       "                  lsoa_name_ local_auth  ... living_env  income_dep  \\\n",
       "0  Barking and Dagenham 016C  E09000002  ...     39.857       0.189   \n",
       "1  Barking and Dagenham 009C  E09000002  ...     27.688       0.318   \n",
       "\n",
       "   income_d_1  children_a  adult_skil  geographic  wider_barr  indoors_su  \\\n",
       "0       0.362       0.273       0.334      -0.337       6.689       0.652   \n",
       "1       0.293      -0.300       0.403      -0.761       6.045       0.280   \n",
       "\n",
       "   outdoors_s                                           geometry  \n",
       "0       1.195  POLYGON ((0.08274776947323803 51.5434999119112...  \n",
       "1       0.773  POLYGON ((0.150347276986134 51.55090787738874,...  \n",
       "\n",
       "[2 rows x 30 columns]"
      ]
     },
     "execution_count": 16,
     "metadata": {},
     "output_type": "execute_result"
    }
   ],
   "source": [
    "v.head(2)"
   ]
  },
  {
   "cell_type": "code",
   "execution_count": 57,
   "metadata": {},
   "outputs": [],
   "source": [
    "councilTBracket = councilTBracket.to_crs({'init': 'epsg:4326'})"
   ]
  },
  {
   "cell_type": "code",
   "execution_count": 58,
   "metadata": {},
   "outputs": [],
   "source": [
    "\n",
    "councilTBracket.to_csv (r'export_dataframe.csv', index = False, header=True)"
   ]
  },
  {
   "cell_type": "code",
   "execution_count": 17,
   "metadata": {},
   "outputs": [],
   "source": [
    "v = v.to_crs({'init': 'epsg:4326'})"
   ]
  },
  {
   "cell_type": "code",
   "execution_count": 18,
   "metadata": {},
   "outputs": [],
   "source": [
    "v = v.drop(columns=['lsoa11nmw', 'lsoa11nm', 'local_auth', 'income_d_1', 'children_a', 'wider_barr', 'indoors_su', 'outdoors_s', 'index_of_1', 'index_of_2'])"
   ]
  },
  {
   "cell_type": "code",
   "execution_count": 68,
   "metadata": {},
   "outputs": [],
   "source": [
    "\n",
    "#Using the english government information for the ratio analysis to create a deprivation rating after\n",
    "# K-Means tuplets ratio comarison has been made a general skewe has . been shown to correlate values.\n",
    "# AS RATIOS ARE BETWEEN 0-1 the *0.135 is the percentage to take into consideration and as teh values\n",
    "#have . the same bound the percentages will make an impact.\n",
    "v['DeprivationRate'] = v.apply(lambda row: (row['education_']*0.135\n",
    "                                                                + row['living_env']*0.093\n",
    "                                                                + row['employment']*0.225\n",
    "                                                                + row['income_sco']*0.225\n",
    "                                                                + row['health_dep']*0.135\n",
    "                                                                + row['barriers_t']*0.093\n",
    "                                                                + row['crime_scor'] *0.093)\n",
    "                                                                , axis=1)"
   ]
  },
  {
   "cell_type": "code",
   "execution_count": 142,
   "metadata": {},
   "outputs": [
    {
     "data": {
      "text/html": [
       "<div>\n",
       "<style scoped>\n",
       "    .dataframe tbody tr th:only-of-type {\n",
       "        vertical-align: middle;\n",
       "    }\n",
       "\n",
       "    .dataframe tbody tr th {\n",
       "        vertical-align: top;\n",
       "    }\n",
       "\n",
       "    .dataframe thead th {\n",
       "        text-align: right;\n",
       "    }\n",
       "</style>\n",
       "<table border=\"1\" class=\"dataframe\">\n",
       "  <thead>\n",
       "    <tr style=\"text-align: right;\">\n",
       "      <th></th>\n",
       "      <th>index_of_m</th>\n",
       "      <th>fid</th>\n",
       "      <th>lsoa11cd</th>\n",
       "      <th>lsoa11nm</th>\n",
       "      <th>lsoa11nmw</th>\n",
       "      <th>age_indica</th>\n",
       "      <th>shape_area</th>\n",
       "      <th>shape_leng</th>\n",
       "      <th>lsoa_name_</th>\n",
       "      <th>local_auth</th>\n",
       "      <th>...</th>\n",
       "      <th>living_env</th>\n",
       "      <th>income_dep</th>\n",
       "      <th>income_d_1</th>\n",
       "      <th>children_a</th>\n",
       "      <th>adult_skil</th>\n",
       "      <th>geographic</th>\n",
       "      <th>wider_barr</th>\n",
       "      <th>indoors_su</th>\n",
       "      <th>outdoors_s</th>\n",
       "      <th>geometry</th>\n",
       "    </tr>\n",
       "  </thead>\n",
       "  <tbody>\n",
       "    <tr>\n",
       "      <th>0</th>\n",
       "      <td>30.679</td>\n",
       "      <td>18</td>\n",
       "      <td>E01000011</td>\n",
       "      <td>Barking and Dagenham 016C</td>\n",
       "      <td>Barking and Dagenham 016C</td>\n",
       "      <td>0</td>\n",
       "      <td>233155.657352</td>\n",
       "      <td>2403.754733</td>\n",
       "      <td>Barking and Dagenham 016C</td>\n",
       "      <td>E09000002</td>\n",
       "      <td>...</td>\n",
       "      <td>39.857</td>\n",
       "      <td>0.189</td>\n",
       "      <td>0.362</td>\n",
       "      <td>0.273</td>\n",
       "      <td>0.334</td>\n",
       "      <td>-0.337</td>\n",
       "      <td>6.689</td>\n",
       "      <td>0.652</td>\n",
       "      <td>1.195</td>\n",
       "      <td>POLYGON ((0.08274776947323803 51.5434999119112...</td>\n",
       "    </tr>\n",
       "    <tr>\n",
       "      <th>1</th>\n",
       "      <td>39.004</td>\n",
       "      <td>24</td>\n",
       "      <td>E01000017</td>\n",
       "      <td>Barking and Dagenham 009C</td>\n",
       "      <td>Barking and Dagenham 009C</td>\n",
       "      <td>0</td>\n",
       "      <td>415282.819397</td>\n",
       "      <td>3399.901723</td>\n",
       "      <td>Barking and Dagenham 009C</td>\n",
       "      <td>E09000002</td>\n",
       "      <td>...</td>\n",
       "      <td>27.688</td>\n",
       "      <td>0.318</td>\n",
       "      <td>0.293</td>\n",
       "      <td>-0.300</td>\n",
       "      <td>0.403</td>\n",
       "      <td>-0.761</td>\n",
       "      <td>6.045</td>\n",
       "      <td>0.280</td>\n",
       "      <td>0.773</td>\n",
       "      <td>POLYGON ((0.150347276986134 51.55090787738874,...</td>\n",
       "    </tr>\n",
       "  </tbody>\n",
       "</table>\n",
       "<p>2 rows × 30 columns</p>\n",
       "</div>"
      ],
      "text/plain": [
       "   index_of_m  fid   lsoa11cd                   lsoa11nm  \\\n",
       "0      30.679   18  E01000011  Barking and Dagenham 016C   \n",
       "1      39.004   24  E01000017  Barking and Dagenham 009C   \n",
       "\n",
       "                   lsoa11nmw  age_indica     shape_area   shape_leng  \\\n",
       "0  Barking and Dagenham 016C           0  233155.657352  2403.754733   \n",
       "1  Barking and Dagenham 009C           0  415282.819397  3399.901723   \n",
       "\n",
       "                  lsoa_name_ local_auth  ... living_env  income_dep  \\\n",
       "0  Barking and Dagenham 016C  E09000002  ...     39.857       0.189   \n",
       "1  Barking and Dagenham 009C  E09000002  ...     27.688       0.318   \n",
       "\n",
       "   income_d_1  children_a  adult_skil  geographic  wider_barr  indoors_su  \\\n",
       "0       0.362       0.273       0.334      -0.337       6.689       0.652   \n",
       "1       0.293      -0.300       0.403      -0.761       6.045       0.280   \n",
       "\n",
       "   outdoors_s                                           geometry  \n",
       "0       1.195  POLYGON ((0.08274776947323803 51.5434999119112...  \n",
       "1       0.773  POLYGON ((0.150347276986134 51.55090787738874,...  \n",
       "\n",
       "[2 rows x 30 columns]"
      ]
     },
     "execution_count": 142,
     "metadata": {},
     "output_type": "execute_result"
    }
   ],
   "source": [
    "v.head(2)"
   ]
  },
  {
   "cell_type": "code",
   "execution_count": 100,
   "metadata": {},
   "outputs": [
    {
     "data": {
      "text/html": [
       "<div>\n",
       "<style scoped>\n",
       "    .dataframe tbody tr th:only-of-type {\n",
       "        vertical-align: middle;\n",
       "    }\n",
       "\n",
       "    .dataframe tbody tr th {\n",
       "        vertical-align: top;\n",
       "    }\n",
       "\n",
       "    .dataframe thead th {\n",
       "        text-align: right;\n",
       "    }\n",
       "</style>\n",
       "<table border=\"1\" class=\"dataframe\">\n",
       "  <thead>\n",
       "    <tr style=\"text-align: right;\">\n",
       "      <th></th>\n",
       "      <th>index_of_m</th>\n",
       "      <th>fid</th>\n",
       "      <th>lsoa11cd</th>\n",
       "      <th>age_indica</th>\n",
       "      <th>shape_area</th>\n",
       "      <th>shape_leng</th>\n",
       "      <th>lsoa_name_</th>\n",
       "      <th>local_au_1</th>\n",
       "      <th>cartodb_id</th>\n",
       "      <th>income_sco</th>\n",
       "      <th>...</th>\n",
       "      <th>barriers_t</th>\n",
       "      <th>living_env</th>\n",
       "      <th>income_dep</th>\n",
       "      <th>adult_skil</th>\n",
       "      <th>geographic</th>\n",
       "      <th>geometry</th>\n",
       "      <th>DeprivationRate</th>\n",
       "      <th>w_DeprivationRate</th>\n",
       "      <th>significant</th>\n",
       "      <th>quadrant</th>\n",
       "    </tr>\n",
       "  </thead>\n",
       "  <tbody>\n",
       "    <tr>\n",
       "      <th>0</th>\n",
       "      <td>30.679</td>\n",
       "      <td>18</td>\n",
       "      <td>E01000011</td>\n",
       "      <td>0</td>\n",
       "      <td>233155.657352</td>\n",
       "      <td>2403.754733</td>\n",
       "      <td>Barking and Dagenham 016C</td>\n",
       "      <td>Barking and Dagenham</td>\n",
       "      <td>1</td>\n",
       "      <td>0.167</td>\n",
       "      <td>...</td>\n",
       "      <td>52.948</td>\n",
       "      <td>39.857</td>\n",
       "      <td>0.189</td>\n",
       "      <td>0.334</td>\n",
       "      <td>-0.337</td>\n",
       "      <td>POLYGON ((0.08274776947323803 51.5434999119112...</td>\n",
       "      <td>11.757153</td>\n",
       "      <td>0.0</td>\n",
       "      <td>True</td>\n",
       "      <td>4</td>\n",
       "    </tr>\n",
       "    <tr>\n",
       "      <th>1</th>\n",
       "      <td>39.004</td>\n",
       "      <td>24</td>\n",
       "      <td>E01000017</td>\n",
       "      <td>0</td>\n",
       "      <td>415282.819397</td>\n",
       "      <td>3399.901723</td>\n",
       "      <td>Barking and Dagenham 009C</td>\n",
       "      <td>Barking and Dagenham</td>\n",
       "      <td>2</td>\n",
       "      <td>0.250</td>\n",
       "      <td>...</td>\n",
       "      <td>45.929</td>\n",
       "      <td>27.688</td>\n",
       "      <td>0.318</td>\n",
       "      <td>0.403</td>\n",
       "      <td>-0.761</td>\n",
       "      <td>POLYGON ((0.150347276986134 51.55090787738874,...</td>\n",
       "      <td>10.155192</td>\n",
       "      <td>0.0</td>\n",
       "      <td>True</td>\n",
       "      <td>4</td>\n",
       "    </tr>\n",
       "  </tbody>\n",
       "</table>\n",
       "<p>2 rows × 24 columns</p>\n",
       "</div>"
      ],
      "text/plain": [
       "   index_of_m  fid   lsoa11cd  age_indica     shape_area   shape_leng  \\\n",
       "0      30.679   18  E01000011           0  233155.657352  2403.754733   \n",
       "1      39.004   24  E01000017           0  415282.819397  3399.901723   \n",
       "\n",
       "                  lsoa_name_            local_au_1  cartodb_id  income_sco  \\\n",
       "0  Barking and Dagenham 016C  Barking and Dagenham           1       0.167   \n",
       "1  Barking and Dagenham 009C  Barking and Dagenham           2       0.250   \n",
       "\n",
       "   ...  barriers_t  living_env  income_dep  adult_skil  geographic  \\\n",
       "0  ...      52.948      39.857       0.189       0.334      -0.337   \n",
       "1  ...      45.929      27.688       0.318       0.403      -0.761   \n",
       "\n",
       "                                            geometry  DeprivationRate  \\\n",
       "0  POLYGON ((0.08274776947323803 51.5434999119112...        11.757153   \n",
       "1  POLYGON ((0.150347276986134 51.55090787738874,...        10.155192   \n",
       "\n",
       "   w_DeprivationRate  significant quadrant  \n",
       "0                0.0         True        4  \n",
       "1                0.0         True        4  \n",
       "\n",
       "[2 rows x 24 columns]"
      ]
     },
     "execution_count": 100,
     "metadata": {},
     "output_type": "execute_result"
    }
   ],
   "source": [
    "v.head(2)"
   ]
  },
  {
   "cell_type": "code",
   "execution_count": 20,
   "metadata": {},
   "outputs": [],
   "source": [
    "te = 'imd2019.csv'"
   ]
  },
  {
   "cell_type": "code",
   "execution_count": 21,
   "metadata": {},
   "outputs": [],
   "source": [
    "ter = gpd.read_file(te)"
   ]
  },
  {
   "cell_type": "code",
   "execution_count": 22,
   "metadata": {},
   "outputs": [
    {
     "data": {
      "text/html": [
       "<div>\n",
       "<style scoped>\n",
       "    .dataframe tbody tr th:only-of-type {\n",
       "        vertical-align: middle;\n",
       "    }\n",
       "\n",
       "    .dataframe tbody tr th {\n",
       "        vertical-align: top;\n",
       "    }\n",
       "\n",
       "    .dataframe thead th {\n",
       "        text-align: right;\n",
       "    }\n",
       "</style>\n",
       "<table border=\"1\" class=\"dataframe\">\n",
       "  <thead>\n",
       "    <tr style=\"text-align: right;\">\n",
       "      <th></th>\n",
       "      <th>geometry</th>\n",
       "      <th>income_score_rate_</th>\n",
       "      <th>fid</th>\n",
       "      <th>lsoa11cd</th>\n",
       "      <th>lsoa11nm</th>\n",
       "      <th>lsoa11nmw</th>\n",
       "      <th>age_indica</th>\n",
       "      <th>shape_area</th>\n",
       "      <th>shape_length</th>\n",
       "      <th>lsoa_name_2011_</th>\n",
       "      <th>...</th>\n",
       "      <th>living_environment_score</th>\n",
       "      <th>income_deprivation_affecting_children_index_idaci_score_rate</th>\n",
       "      <th>income_deprivation_affecting_older_people_idaopi_score_rate_</th>\n",
       "      <th>children_and_young_people_sub_domain_score</th>\n",
       "      <th>adult_skills_sub_domain_score</th>\n",
       "      <th>geographical_barriers_sub_domain_score</th>\n",
       "      <th>wider_barriers_sub_domain_score</th>\n",
       "      <th>indoors_sub_domain_score</th>\n",
       "      <th>outdoors_sub_domain_score</th>\n",
       "      <th>geometry</th>\n",
       "    </tr>\n",
       "  </thead>\n",
       "  <tbody>\n",
       "    <tr>\n",
       "      <th>0</th>\n",
       "      <td>0106000020E61000000100000001030000000100000011...</td>\n",
       "      <td>0.167</td>\n",
       "      <td>18</td>\n",
       "      <td>E01000011</td>\n",
       "      <td>Barking and Dagenham 016C</td>\n",
       "      <td>Barking and Dagenham 016C</td>\n",
       "      <td>0</td>\n",
       "      <td>233155.657352448</td>\n",
       "      <td>2403.75473303492</td>\n",
       "      <td>Barking and Dagenham 016C</td>\n",
       "      <td>...</td>\n",
       "      <td>39.857</td>\n",
       "      <td>0.189</td>\n",
       "      <td>0.362</td>\n",
       "      <td>0.273</td>\n",
       "      <td>0.334</td>\n",
       "      <td>-0.337</td>\n",
       "      <td>6.689</td>\n",
       "      <td>0.652</td>\n",
       "      <td>1.195</td>\n",
       "      <td>0106000020E61000000100000001030000000100000011...</td>\n",
       "    </tr>\n",
       "    <tr>\n",
       "      <th>1</th>\n",
       "      <td>0106000020E61000000100000001030000000100000016...</td>\n",
       "      <td>0.25</td>\n",
       "      <td>24</td>\n",
       "      <td>E01000017</td>\n",
       "      <td>Barking and Dagenham 009C</td>\n",
       "      <td>Barking and Dagenham 009C</td>\n",
       "      <td>0</td>\n",
       "      <td>415282.819396973</td>\n",
       "      <td>3399.90172254771</td>\n",
       "      <td>Barking and Dagenham 009C</td>\n",
       "      <td>...</td>\n",
       "      <td>27.688</td>\n",
       "      <td>0.318</td>\n",
       "      <td>0.293</td>\n",
       "      <td>-0.3</td>\n",
       "      <td>0.403</td>\n",
       "      <td>-0.761</td>\n",
       "      <td>6.045</td>\n",
       "      <td>0.28</td>\n",
       "      <td>0.773</td>\n",
       "      <td>0106000020E61000000100000001030000000100000016...</td>\n",
       "    </tr>\n",
       "  </tbody>\n",
       "</table>\n",
       "<p>2 rows × 31 columns</p>\n",
       "</div>"
      ],
      "text/plain": [
       "                                            geometry income_score_rate_ fid  \\\n",
       "0  0106000020E61000000100000001030000000100000011...              0.167  18   \n",
       "1  0106000020E61000000100000001030000000100000016...               0.25  24   \n",
       "\n",
       "    lsoa11cd                   lsoa11nm                  lsoa11nmw age_indica  \\\n",
       "0  E01000011  Barking and Dagenham 016C  Barking and Dagenham 016C          0   \n",
       "1  E01000017  Barking and Dagenham 009C  Barking and Dagenham 009C          0   \n",
       "\n",
       "         shape_area      shape_length            lsoa_name_2011_  ...  \\\n",
       "0  233155.657352448  2403.75473303492  Barking and Dagenham 016C  ...   \n",
       "1  415282.819396973  3399.90172254771  Barking and Dagenham 009C  ...   \n",
       "\n",
       "  living_environment_score  \\\n",
       "0                   39.857   \n",
       "1                   27.688   \n",
       "\n",
       "  income_deprivation_affecting_children_index_idaci_score_rate  \\\n",
       "0                                              0.189             \n",
       "1                                              0.318             \n",
       "\n",
       "  income_deprivation_affecting_older_people_idaopi_score_rate_  \\\n",
       "0                                              0.362             \n",
       "1                                              0.293             \n",
       "\n",
       "  children_and_young_people_sub_domain_score adult_skills_sub_domain_score  \\\n",
       "0                                      0.273                         0.334   \n",
       "1                                       -0.3                         0.403   \n",
       "\n",
       "  geographical_barriers_sub_domain_score wider_barriers_sub_domain_score  \\\n",
       "0                                 -0.337                           6.689   \n",
       "1                                 -0.761                           6.045   \n",
       "\n",
       "  indoors_sub_domain_score outdoors_sub_domain_score  \\\n",
       "0                    0.652                     1.195   \n",
       "1                     0.28                     0.773   \n",
       "\n",
       "                                            geometry  \n",
       "0  0106000020E61000000100000001030000000100000011...  \n",
       "1  0106000020E61000000100000001030000000100000016...  \n",
       "\n",
       "[2 rows x 31 columns]"
      ]
     },
     "execution_count": 22,
     "metadata": {},
     "output_type": "execute_result"
    }
   ],
   "source": [
    "ter.head(2)"
   ]
  },
  {
   "cell_type": "code",
   "execution_count": 23,
   "metadata": {},
   "outputs": [],
   "source": [
    "ter = ter.drop(columns=['geometry', 'lsoa11nm', 'lsoa11nmw', 'age_indica', 'shape_area', 'shape_area', 'shape_length', 'lsoa_name_2011_', 'local_authority_district_code_2019_',])"
   ]
  },
  {
   "cell_type": "code",
   "execution_count": 24,
   "metadata": {},
   "outputs": [],
   "source": [
    "both= v.merge(ter, on='lsoa11cd')"
   ]
  },
  {
   "cell_type": "code",
   "execution_count": 25,
   "metadata": {},
   "outputs": [],
   "source": [
    "both = both.to_crs({'init': 'epsg:4326'})"
   ]
  },
  {
   "cell_type": "code",
   "execution_count": 30,
   "metadata": {},
   "outputs": [
    {
     "data": {
      "text/plain": [
       "0        0.189\n",
       "1        0.318\n",
       "2        0.031\n",
       "3        0.119\n",
       "4        0.024\n",
       "         ...  \n",
       "32839    0.414\n",
       "32840    0.492\n",
       "32841    0.097\n",
       "32842    0.520\n",
       "32843    0.436\n",
       "Name: income_dep, Length: 32844, dtype: float64"
      ]
     },
     "execution_count": 30,
     "metadata": {},
     "output_type": "execute_result"
    }
   ],
   "source": [
    "both.income_dep"
   ]
  },
  {
   "cell_type": "code",
   "execution_count": 27,
   "metadata": {},
   "outputs": [],
   "source": [
    "both.to_file('savedFinal.shp', driver='ESRI Shapefile')"
   ]
  },
  {
   "cell_type": "code",
   "execution_count": 1,
   "metadata": {},
   "outputs": [],
   "source": [
    "#Create Queen and rook spatial auto correlation on v with the index variables.\n",
    "# Method ofconnecting data sets together through the Queen and rook approach from a spatial matrix on 'h_dom' \n",
    "#%time w = weights.Queen.from_dataframe(both, idVariable='lsoa11cd')"
   ]
  },
  {
   "cell_type": "code",
   "execution_count": 2,
   "metadata": {},
   "outputs": [],
   "source": [
    "#Time frame only took 17.2 seconds since dropped the unused values\n",
    "# standardize the matrix for each row\n",
    "#w.transform = 'R'"
   ]
  },
  {
   "cell_type": "code",
   "execution_count": 34,
   "metadata": {},
   "outputs": [],
   "source": [
    "#Create spatial lag with the deprivationrate values with the higher \n",
    "# the value meaning the higher the deprivation rating\n",
    "# W is standardized with the average values of the varaible and its neighbourhoods\n",
    "both['w_income_dep'] = weights.lag_spatial(w, both['income_dep'])\n",
    "\n"
   ]
  },
  {
   "cell_type": "code",
   "execution_count": 38,
   "metadata": {},
   "outputs": [],
   "source": [
    "\n",
    "both.to_csv (r'test.csv', index = False, header=True)"
   ]
  },
  {
   "cell_type": "code",
   "execution_count": 44,
   "metadata": {},
   "outputs": [
    {
     "data": {
      "image/png": "[encoded data removed]",
      "text/plain": [
       "<Figure size 432x288 with 1 Axes>"
      ]
     },
     "metadata": {
      "needs_background": "light"
     },
     "output_type": "display_data"
    }
   ],
   "source": [
    "# Set up the figure\n",
    "f, ax = plt.subplots(1)\n",
    "# Plot the kernel density estimation (KDE)\n",
    "sns.kdeplot(both['income_dep'], shade=True)\n",
    "# Add a blue tick for every value at the bottom of the plot (rugs)\n",
    "sns.rugplot(both['income_dep'], alpha=0.5)\n",
    "# Loop over each break point and plot a vertical red line\n",
    "for cut in classi.bins:\n",
    "    plt.axvline(cut, color='red', linewidth=0.75)\n",
    "# Display image\n",
    "plt.show()"
   ]
  },
  {
   "cell_type": "code",
   "execution_count": 40,
   "metadata": {},
   "outputs": [],
   "source": [
    "from pysal.viz import mapclassify"
   ]
  },
  {
   "cell_type": "code",
   "execution_count": 43,
   "metadata": {},
   "outputs": [],
   "source": [
    "classi = mapclassify.Quantiles(both['income_dep'], k=10)"
   ]
  },
  {
   "cell_type": "code",
   "execution_count": 45,
   "metadata": {},
   "outputs": [
    {
     "data": {
      "text/plain": [
       "               Quantiles                \n",
       " \n",
       "Lower          Upper               Count\n",
       "========================================\n",
       "        x[i] <= 0.045               4699\n",
       "0.045 < x[i] <= 0.073               4801\n",
       "0.073 < x[i] <= 0.106               4679\n",
       "0.106 < x[i] <= 0.150               4664\n",
       "0.150 < x[i] <= 0.210               4624\n",
       "0.210 < x[i] <= 0.293               4703\n",
       "0.293 < x[i] <= 0.898               4674"
      ]
     },
     "execution_count": 45,
     "metadata": {},
     "output_type": "execute_result"
    }
   ],
   "source": [
    "classi"
   ]
  },
  {
   "cell_type": "code",
   "execution_count": 46,
   "metadata": {},
   "outputs": [],
   "source": [
    "lowestQuartile =  both[both.income_dep <= 0.045]"
   ]
  },
  {
   "cell_type": "code",
   "execution_count": 48,
   "metadata": {},
   "outputs": [],
   "source": [
    "highestQuartile = both[both.income_dep > 0.293]"
   ]
  },
  {
   "cell_type": "code",
   "execution_count": 49,
   "metadata": {},
   "outputs": [],
   "source": [
    "\n",
    "lowestQuartile.to_csv (r'test.csv', index = False, header=True)"
   ]
  },
  {
   "cell_type": "code",
   "execution_count": 52,
   "metadata": {},
   "outputs": [],
   "source": [
    "import os\n",
    "import glob\n",
    "\n",
    "os.chdir(\"2020-02\")"
   ]
  },
  {
   "cell_type": "code",
   "execution_count": 53,
   "metadata": {},
   "outputs": [],
   "source": [
    "extension = 'csv'\n",
    "all_filenames = [i for i in glob.glob('*.{}'.format(extension))]"
   ]
  },
  {
   "cell_type": "code",
   "execution_count": 54,
   "metadata": {},
   "outputs": [],
   "source": [
    "#combine all files in the list\n",
    "combined_csv = pd.concat([pd.read_csv(f) for f in all_filenames ])\n",
    "#export to csv\n",
    "combined_csv.to_csv( \"combinedcsv.csv\", index=False, encoding='utf-8-sig')"
   ]
  },
  {
   "cell_type": "code",
   "execution_count": 63,
   "metadata": {},
   "outputs": [],
   "source": [
    "fileCrime = 'combinedcsv.csv'\n",
    "os.chdir(\"../\")\n"
   ]
  },
  {
   "cell_type": "code",
   "execution_count": 64,
   "metadata": {},
   "outputs": [],
   "source": [
    "crimeRandom = gpd.read_file(fileCrime)"
   ]
  },
  {
   "cell_type": "code",
   "execution_count": 65,
   "metadata": {},
   "outputs": [
    {
     "name": "stdout",
     "output_type": "stream",
     "text": [
      "<class 'geopandas.geodataframe.GeoDataFrame'>\n",
      "Int64Index: 10000 entries, 429506 to 98629\n",
      "Data columns (total 13 columns):\n",
      "Crime ID                 10000 non-null object\n",
      "Month                    10000 non-null object\n",
      "Reported by              10000 non-null object\n",
      "Falls within             10000 non-null object\n",
      "Longitude                10000 non-null object\n",
      "Latitude                 10000 non-null object\n",
      "Location                 10000 non-null object\n",
      "LSOA code                10000 non-null object\n",
      "LSOA name                10000 non-null object\n",
      "Crime type               10000 non-null object\n",
      "Last outcome category    10000 non-null object\n",
      "Context                  10000 non-null object\n",
      "geometry                 0 non-null object\n",
      "dtypes: object(13)\n",
      "memory usage: 1.1+ MB\n"
     ]
    }
   ],
   "source": [
    "# Set the \"seed\" so every run produces the generates the same random numbers\n",
    "np.random.seed(1234)\n",
    "# Create a sequence of length equal to the number of rows in the table\n",
    "ri = np.arange(len(crimeRandom))\n",
    "# Randomly reorganize (shuffle) the values\n",
    "np.random.shuffle(ri)\n",
    "# Reindex the table by using only the first 10,000 numbers\n",
    "# of the (now randomly arranged) sequence\n",
    "crimeRandom = crimeRandom.iloc[ri[:10000], :]\n",
    "# Display summary of the new table\n",
    "crimeRandom.info()"
   ]
  },
  {
   "cell_type": "code",
   "execution_count": 66,
   "metadata": {},
   "outputs": [],
   "source": [
    "\n",
    "crimeRandom.to_csv (r'crimePoints.csv', index = False, header=True)"
   ]
  },
  {
   "cell_type": "code",
   "execution_count": 67,
   "metadata": {},
   "outputs": [],
   "source": [
    "\n",
    "highestQuartile.to_csv (r'highest.csv', index = False, header=True)"
   ]
  },
  {
   "cell_type": "markdown",
   "metadata": {},
   "source": [
    "Now all the data is loaded it can now be edited or viewed via Mapbox for base map styling or CARTO for visual representation."
   ]
  },
  {
   "cell_type": "code",
   "execution_count": null,
   "metadata": {},
   "outputs": [],
   "source": []
  }
 ],
 "metadata": {
  "kernelspec": {
   "display_name": "Python 3",
   "language": "python",
   "name": "python3"
  },
  "language_info": {
   "codemirror_mode": {
    "name": "ipython",
    "version": 3
   },
   "file_extension": ".py",
   "mimetype": "text/x-python",
   "name": "python",
   "nbconvert_exporter": "python",
   "pygments_lexer": "ipython3",
   "version": "3.7.3"
  }
 },
 "nbformat": 4,
 "nbformat_minor": 4
}
